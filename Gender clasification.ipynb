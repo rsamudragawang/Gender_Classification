{
 "cells": [
  {
   "cell_type": "code",
   "execution_count": 4,
   "id": "dietary-resort",
   "metadata": {},
   "outputs": [
    {
     "name": "stdout",
     "output_type": "stream",
     "text": [
      "{'man': 0, 'woman': 1}\n",
      "['man', 'woman']\n",
      "[0, 1]\n"
     ]
    }
   ],
   "source": [
    "import cv2\n",
    "import os\n",
    "\n",
    "data_path='Datasets'\n",
    "categories=os.listdir(data_path)\n",
    "labels=[i for i in range(len(categories))]\n",
    "\n",
    "label_dict=dict(zip(categories,labels))\n",
    "\n",
    "print(label_dict)\n",
    "print(categories)\n",
    "print(labels)"
   ]
  },
  {
   "cell_type": "code",
   "execution_count": 5,
   "id": "hired-export",
   "metadata": {},
   "outputs": [],
   "source": [
    "img_size=32\n",
    "data=[]\n",
    "target=[]\n",
    "\n",
    "facedata = \"haarcascade_frontalface_default.xml\"\n",
    "cascade = cv2.CascadeClassifier(facedata)\n",
    "\n",
    "\n",
    "for category in categories:\n",
    "    folder_path=os.path.join(data_path,category)\n",
    "    img_names=os.listdir(folder_path)\n",
    "        \n",
    "    for img_name in img_names:\n",
    "        img_path=os.path.join(folder_path,img_name)\n",
    "        img=cv2.imread(img_path)\n",
    "        faces = cascade.detectMultiScale(img)\n",
    "        try:\n",
    "            for f in faces:\n",
    "                x, y, w, h = [v for v in f]\n",
    "                sub_face = img[y:y + h, x:x + w]\n",
    "                gray=cv2.cvtColor(sub_face,cv2.COLOR_BGR2GRAY)           \n",
    "                resized=cv2.resize(gray,(img_size,img_size))\n",
    "                data.append(resized)\n",
    "                target.append(label_dict[category])\n",
    "        except Exception as e:\n",
    "            print('Exception:',e)"
   ]
  },
  {
   "cell_type": "code",
   "execution_count": 6,
   "id": "reflected-asthma",
   "metadata": {},
   "outputs": [],
   "source": [
    "import numpy as np\n",
    "import warnings\n",
    "warnings.filterwarnings('ignore')\n",
    "data=np.array(data)/255.0\n",
    "data=np.reshape(data,(data.shape[0],img_size,img_size,1))\n",
    "target=np.array(target)\n",
    "\n",
    "from keras.utils import np_utils\n",
    "\n",
    "new_target=np_utils.to_categorical(target)\n",
    "\n",
    "np.save('./training/data',data)\n",
    "np.save('./training/target',new_target)"
   ]
  },
  {
   "cell_type": "code",
   "execution_count": 7,
   "id": "improved-recruitment",
   "metadata": {},
   "outputs": [],
   "source": [
    "import numpy as np\n",
    "\n",
    "data=np.load('./training/data.npy')\n",
    "target=np.load('./training/target.npy')"
   ]
  },
  {
   "cell_type": "code",
   "execution_count": 8,
   "id": "spoken-istanbul",
   "metadata": {},
   "outputs": [],
   "source": [
    "from keras.models import Sequential\n",
    "from keras.layers import Dense,Activation,Flatten,Dropout\n",
    "from keras.layers import Conv2D,MaxPooling2D\n",
    "from keras.callbacks import ModelCheckpoint\n",
    "\n",
    "\n",
    "noOfFilters=64\n",
    "sizeOfFilter1=(3,3)\n",
    "sizeOfFilter2=(3,3)\n",
    "sizeOfPool=(2,2)\n",
    "noOfNode=64\n",
    "\n",
    "\n",
    "\n",
    "model=Sequential()\n",
    "model.add((Conv2D(32, sizeOfFilter1, input_shape=data.shape[1:],activation='relu')))\n",
    "model.add((Conv2D(32, sizeOfFilter1,activation='relu')))\n",
    "model.add(MaxPooling2D(pool_size=sizeOfPool))\n",
    "\n",
    "model.add((Conv2D(64, sizeOfFilter2,activation='relu')))\n",
    "model.add((Conv2D(64, sizeOfFilter2,activation='relu')))\n",
    "model.add(MaxPooling2D(pool_size=sizeOfPool))\n",
    "model.add(Dropout(0.5))\n",
    "\n",
    "\n",
    "model.add(Flatten())\n",
    "model.add(Dense(noOfNode, activation='relu'))\n",
    "model.add(Dropout(0.5))\n",
    "model.add(Dense(2, activation='softmax'))\n",
    "\n",
    "\n",
    "model.compile(loss='categorical_crossentropy',optimizer='adam',metrics=['accuracy'])"
   ]
  },
  {
   "cell_type": "code",
   "execution_count": 9,
   "id": "competent-behavior",
   "metadata": {},
   "outputs": [],
   "source": [
    "from sklearn.model_selection import train_test_split\n",
    "\n",
    "train_data,test_data,train_target,test_target=train_test_split(data,target,test_size=0.1)"
   ]
  },
  {
   "cell_type": "code",
   "execution_count": 10,
   "id": "southwest-workshop",
   "metadata": {},
   "outputs": [
    {
     "name": "stdout",
     "output_type": "stream",
     "text": [
      "Epoch 1/20\n",
      "34/34 [==============================] - 4s 108ms/step - loss: 0.5423 - accuracy: 0.6933 - val_loss: 0.0087 - val_accuracy: 0.9963\n",
      "INFO:tensorflow:Assets written to: ./training/model-001.model/assets\n",
      "Epoch 2/20\n",
      "34/34 [==============================] - 5s 138ms/step - loss: 0.0309 - accuracy: 0.9958 - val_loss: 0.0063 - val_accuracy: 0.9963\n",
      "INFO:tensorflow:Assets written to: ./training/model-002.model/assets\n",
      "Epoch 3/20\n",
      "34/34 [==============================] - 5s 145ms/step - loss: 0.0267 - accuracy: 0.9972 - val_loss: 0.0010 - val_accuracy: 1.0000\n",
      "INFO:tensorflow:Assets written to: ./training/model-003.model/assets\n",
      "Epoch 4/20\n",
      "34/34 [==============================] - 5s 144ms/step - loss: 0.0029 - accuracy: 0.9991 - val_loss: 7.5611e-04 - val_accuracy: 1.0000\n",
      "INFO:tensorflow:Assets written to: ./training/model-004.model/assets\n",
      "Epoch 5/20\n",
      "34/34 [==============================] - 5s 138ms/step - loss: 0.0031 - accuracy: 0.9989 - val_loss: 0.0046 - val_accuracy: 0.9963\n",
      "Epoch 6/20\n",
      "34/34 [==============================] - 4s 133ms/step - loss: 0.0028 - accuracy: 1.0000 - val_loss: 8.1815e-04 - val_accuracy: 1.0000\n",
      "Epoch 7/20\n",
      "34/34 [==============================] - 4s 118ms/step - loss: 0.0015 - accuracy: 0.9996 - val_loss: 0.0011 - val_accuracy: 1.0000\n",
      "Epoch 8/20\n",
      "34/34 [==============================] - 4s 113ms/step - loss: 3.8514e-04 - accuracy: 1.0000 - val_loss: 4.0276e-04 - val_accuracy: 1.0000\n",
      "INFO:tensorflow:Assets written to: ./training/model-008.model/assets\n",
      "Epoch 9/20\n",
      "34/34 [==============================] - 4s 105ms/step - loss: 3.8544e-04 - accuracy: 1.0000 - val_loss: 1.1032e-04 - val_accuracy: 1.0000\n",
      "INFO:tensorflow:Assets written to: ./training/model-009.model/assets\n",
      "Epoch 10/20\n",
      "34/34 [==============================] - 5s 147ms/step - loss: 2.3281e-04 - accuracy: 1.0000 - val_loss: 6.1514e-05 - val_accuracy: 1.0000\n",
      "INFO:tensorflow:Assets written to: ./training/model-010.model/assets\n",
      "Epoch 11/20\n",
      "34/34 [==============================] - 4s 124ms/step - loss: 9.2016e-05 - accuracy: 1.0000 - val_loss: 5.2023e-05 - val_accuracy: 1.0000\n",
      "INFO:tensorflow:Assets written to: ./training/model-011.model/assets\n",
      "Epoch 12/20\n",
      "34/34 [==============================] - 4s 108ms/step - loss: 4.6731e-05 - accuracy: 1.0000 - val_loss: 4.8105e-05 - val_accuracy: 1.0000\n",
      "INFO:tensorflow:Assets written to: ./training/model-012.model/assets\n",
      "Epoch 13/20\n",
      "34/34 [==============================] - 5s 145ms/step - loss: 4.7388e-05 - accuracy: 1.0000 - val_loss: 4.2749e-05 - val_accuracy: 1.0000\n",
      "INFO:tensorflow:Assets written to: ./training/model-013.model/assets\n",
      "Epoch 14/20\n",
      "34/34 [==============================] - 5s 138ms/step - loss: 2.7357e-05 - accuracy: 1.0000 - val_loss: 3.8716e-05 - val_accuracy: 1.0000\n",
      "INFO:tensorflow:Assets written to: ./training/model-014.model/assets\n",
      "Epoch 15/20\n",
      "34/34 [==============================] - 5s 146ms/step - loss: 1.4430e-05 - accuracy: 1.0000 - val_loss: 3.5993e-05 - val_accuracy: 1.0000\n",
      "INFO:tensorflow:Assets written to: ./training/model-015.model/assets\n",
      "Epoch 16/20\n",
      "34/34 [==============================] - 4s 120ms/step - loss: 3.5884e-05 - accuracy: 1.0000 - val_loss: 3.2655e-05 - val_accuracy: 1.0000\n",
      "INFO:tensorflow:Assets written to: ./training/model-016.model/assets\n",
      "Epoch 17/20\n",
      "34/34 [==============================] - 4s 120ms/step - loss: 8.0602e-06 - accuracy: 1.0000 - val_loss: 2.8947e-05 - val_accuracy: 1.0000\n",
      "INFO:tensorflow:Assets written to: ./training/model-017.model/assets\n",
      "Epoch 18/20\n",
      "34/34 [==============================] - 4s 121ms/step - loss: 1.0599e-04 - accuracy: 1.0000 - val_loss: 2.3954e-05 - val_accuracy: 1.0000\n",
      "INFO:tensorflow:Assets written to: ./training/model-018.model/assets\n",
      "Epoch 19/20\n",
      "34/34 [==============================] - 5s 135ms/step - loss: 2.7811e-04 - accuracy: 1.0000 - val_loss: 3.2363e-05 - val_accuracy: 1.0000\n",
      "Epoch 20/20\n",
      "34/34 [==============================] - 6s 162ms/step - loss: 4.9898e-05 - accuracy: 1.0000 - val_loss: 1.7309e-05 - val_accuracy: 1.0000\n",
      "INFO:tensorflow:Assets written to: ./training/model-020.model/assets\n"
     ]
    }
   ],
   "source": [
    "checkpoint = ModelCheckpoint('./training/model-{epoch:03d}.model',monitor='val_loss',verbose=0,save_best_only=True,mode='auto')\n",
    "history=model.fit(train_data,train_target,epochs=20,callbacks=[checkpoint],validation_split=0.2)"
   ]
  },
  {
   "cell_type": "code",
   "execution_count": 11,
   "id": "dependent-disposition",
   "metadata": {},
   "outputs": [],
   "source": [
    "from keras.models import load_model\n",
    "import cv2\n",
    "import numpy as np"
   ]
  },
  {
   "cell_type": "code",
   "execution_count": 13,
   "id": "whole-innocent",
   "metadata": {},
   "outputs": [],
   "source": [
    "model = load_model('./training/model-008.model')\n",
    "\n",
    "face_clsfr=cv2.CascadeClassifier('haarcascade_frontalface_default.xml')\n",
    "\n",
    "cap=cv2.VideoCapture(0)\n",
    "\n",
    "labels_dict={0:'Male',1:'Female'}\n",
    "color_dict={0:(0,0,255),1:(0,255,0)}"
   ]
  },
  {
   "cell_type": "code",
   "execution_count": 14,
   "id": "vanilla-absolute",
   "metadata": {},
   "outputs": [],
   "source": [
    "while(True):\n",
    "\n",
    "    ret,img=cap.read()\n",
    "    gray=cv2.cvtColor(img,cv2.COLOR_BGR2GRAY)\n",
    "    faces=face_clsfr.detectMultiScale(gray,1.3,3)  \n",
    "\n",
    "    for (x,y,w,h) in faces:\n",
    "    \n",
    "        face_img=gray[y:y+w,x:x+w]\n",
    "        resized=cv2.resize(face_img,(32,32))\n",
    "        normalized=resized/255.0\n",
    "        reshaped=np.reshape(normalized,(1,32,32,1))\n",
    "        result=model.predict(reshaped)\n",
    "\n",
    "        label=np.argmax(result,axis=1)[0]\n",
    "      \n",
    "        cv2.rectangle(img,(x,y),(x+w,y+h),color_dict[label],2)\n",
    "        cv2.rectangle(img,(x,y-40),(x+w,y),color_dict[label],-1)\n",
    "        cv2.putText(img, labels_dict[label], (x, y-10),cv2.FONT_HERSHEY_SIMPLEX,0.8,(255,255,255),2)\n",
    "        \n",
    "        \n",
    "    cv2.imshow('Result',img)\n",
    "    k=cv2.waitKey(1)\n",
    "    \n",
    "    if k==ord(\"q\"):\n",
    "        break\n",
    "        \n",
    "cv2.destroyAllWindows()\n",
    "cap.release()\n"
   ]
  },
  {
   "cell_type": "code",
   "execution_count": null,
   "id": "experienced-fitness",
   "metadata": {},
   "outputs": [],
   "source": []
  }
 ],
 "metadata": {
  "kernelspec": {
   "display_name": "Python 3",
   "language": "python",
   "name": "python3"
  },
  "language_info": {
   "codemirror_mode": {
    "name": "ipython",
    "version": 3
   },
   "file_extension": ".py",
   "mimetype": "text/x-python",
   "name": "python",
   "nbconvert_exporter": "python",
   "pygments_lexer": "ipython3",
   "version": "3.6.5"
  }
 },
 "nbformat": 4,
 "nbformat_minor": 5
}
